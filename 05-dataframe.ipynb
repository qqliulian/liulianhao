{
 "cells": [
  {
   "cell_type": "code",
   "execution_count": 2,
   "metadata": {},
   "outputs": [],
   "source": [
    "import pandas as pd"
   ]
  },
  {
   "cell_type": "code",
   "execution_count": 1,
   "metadata": {},
   "outputs": [
    {
     "ename": "NameError",
     "evalue": "name 'pd' is not defined",
     "output_type": "error",
     "traceback": [
      "\u001b[1;31m---------------------------------------------------------------------------\u001b[0m",
      "\u001b[1;31mNameError\u001b[0m                                 Traceback (most recent call last)",
      "\u001b[1;32mc:\\Users\\22798\\Desktop\\liulianhao\\05-dataframe.ipynb 单元格 2\u001b[0m line \u001b[0;36m1\n\u001b[1;32m----> <a href='vscode-notebook-cell:/c%3A/Users/22798/Desktop/liulianhao/05-dataframe.ipynb#W1sZmlsZQ%3D%3D?line=0'>1</a>\u001b[0m s \u001b[39m=\u001b[39m pd\u001b[39m.\u001b[39mseries(data\u001b[39m=\u001b[39m[\u001b[39m100\u001b[39m,\u001b[39m'\u001b[39m\u001b[39ma\u001b[39m\u001b[39m'\u001b[39m,{\u001b[39m'\u001b[39m\u001b[39mdic1\u001b[39m\u001b[39m'\u001b[39m:\u001b[39m5\u001b[39m}])\n\u001b[0;32m      <a href='vscode-notebook-cell:/c%3A/Users/22798/Desktop/liulianhao/05-dataframe.ipynb#W1sZmlsZQ%3D%3D?line=1'>2</a>\u001b[0m index\u001b[39m=\u001b[39mpd\u001b[39m.\u001b[39mindex([\u001b[39m'\u001b[39m\u001b[39mid1\u001b[39m\u001b[39m'\u001b[39m,\u001b[39m20\u001b[39m,\u001b[39m'\u001b[39m\u001b[39mthrid\u001b[39m\u001b[39m'\u001b[39m],name\u001b[39m=\u001b[39m\u001b[39m'\u001b[39m\u001b[39mmy_idx\u001b[39m\u001b[39m'\u001b[39m)\n\u001b[0;32m      <a href='vscode-notebook-cell:/c%3A/Users/22798/Desktop/liulianhao/05-dataframe.ipynb#W1sZmlsZQ%3D%3D?line=2'>3</a>\u001b[0m dtype\u001b[39m=\u001b[39m\u001b[39m'\u001b[39m\u001b[39mobject\u001b[39m\u001b[39m'\u001b[39m,\n",
      "\u001b[1;31mNameError\u001b[0m: name 'pd' is not defined"
     ]
    }
   ],
   "source": [
    "s = pd.series(data=[100,'a',{'dic1':5}])\n",
    "index=pd.index(['id1',20,'thrid'],name='my_idx')\n",
    "dtype='object',\n",
    "name='my_name'\n",
    "        "
   ]
  }
 ],
 "metadata": {
  "kernelspec": {
   "display_name": "Python 3",
   "language": "python",
   "name": "python3"
  },
  "language_info": {
   "codemirror_mode": {
    "name": "ipython",
    "version": 3
   },
   "file_extension": ".py",
   "mimetype": "text/x-python",
   "name": "python",
   "nbconvert_exporter": "python",
   "pygments_lexer": "ipython3",
   "version": "3.8.10"
  },
  "orig_nbformat": 4
 },
 "nbformat": 4,
 "nbformat_minor": 2
}
