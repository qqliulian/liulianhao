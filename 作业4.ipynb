{
 "cells": [
  {
   "cell_type": "code",
   "execution_count": 12,
   "metadata": {},
   "outputs": [
    {
     "name": "stdout",
     "output_type": "stream",
     "text": [
      "https://github.com/lisi\n"
     ]
    }
   ],
   "source": [
    "# 假设我们已经有了一个包含姓名、学号和github仓库地址的列表  \n",
    "students = [  \n",
    "    {\"姓名\": \"张三\", \"学号\": \"20230001\", \"github仓库地址\": \"https://github.com/zhangsan\"},  \n",
    "    {\"姓名\": \"李四\", \"学号\": \"20230002\", \"github仓库地址\": \"https://github.com/lisi\"},  \n",
    "    {\"姓名\": \"王五\", \"学号\": \"20230003\", \"github仓库地址\": \"https://github.com/wangwu\"},  \n",
    "    {\"姓名\": \"赵六\", \"学号\": \"20230004\", \"github仓库地址\": \"https://github.com/zhaoliu\"},  \n",
    "    {\"姓名\": \"孙七\", \"学号\": \"20230005\", \"github仓库地址\": \"https://github.com/sunqi\"},  \n",
    "    {\"姓名\": \"周八\", \"学号\": \"20230006\", \"github仓库地址\": \"https://github.com/zhouba\"},  \n",
    "    {\"姓名\": \"吴九\", \"学号\": \"20230007\", \"github仓库地址\": \"https://github.com/wujiu\"},  \n",
    "    {\"姓名\": \"郑十\", \"学号\": \"20230008\", \"github仓库地址\": \"https://github.com/zhengshi\"},  \n",
    "    {\"姓名\": \"冯十一\", \"学号\": \"20230009\", \"github仓库地址\": \"https://github.com/fengshili\"},  \n",
    "    {\"姓名\": \"陈十二\", \"学号\": \"20230010\", \"github仓库地址\": \"https://github.com/chenshihe\"}  \n",
    "]  \n",
    "  \n",
    "# 指定要搜索的姓名  \n",
    "target_name = \"李四\"  \n",
    "  \n",
    "# 使用for循环筛选出指定姓名的同学的github仓库地址  \n",
    "for student in students:  \n",
    "    if student[\"姓名\"] == target_name:  \n",
    "        print(student[\"github仓库地址\"])"
   ]
  },
  {
   "cell_type": "code",
   "execution_count": 13,
   "metadata": {},
   "outputs": [],
   "source": [
    "def get_repo_by_name(name, data):\n",
    "    for i in data:  \n",
    "        if i[\"姓名\"] == name:  \n",
    "            print(i[\"github仓库地址\"])"
   ]
  },
  {
   "cell_type": "code",
   "execution_count": 14,
   "metadata": {},
   "outputs": [
    {
     "name": "stdout",
     "output_type": "stream",
     "text": [
      "https://github.com/lisi\n",
      "None\n"
     ]
    }
   ],
   "source": [
    "print(get_repo_by_name('李四',students))"
   ]
  },
  {
   "cell_type": "code",
   "execution_count": 15,
   "metadata": {},
   "outputs": [
    {
     "name": "stdout",
     "output_type": "stream",
     "text": [
      "https://github.com/lisi\n"
     ]
    }
   ],
   "source": [
    "get_repo_by_name(name='李四', data = students)"
   ]
  },
  {
   "cell_type": "code",
   "execution_count": 16,
   "metadata": {},
   "outputs": [],
   "source": [
    "def get_repo_by_name2(name, data = students):\n",
    "    for i in data:  \n",
    "        if i[\"姓名\"] == name:  \n",
    "            return i[\"github仓库地址\"]"
   ]
  },
  {
   "cell_type": "code",
   "execution_count": 17,
   "metadata": {},
   "outputs": [
    {
     "name": "stdout",
     "output_type": "stream",
     "text": [
      "https://github.com/lisi\n"
     ]
    }
   ],
   "source": [
    "print(get_repo_by_name2('李四', students))"
   ]
  },
  {
   "cell_type": "code",
   "execution_count": 18,
   "metadata": {},
   "outputs": [
    {
     "name": "stdout",
     "output_type": "stream",
     "text": [
      "https://github.com/lisi\n"
     ]
    }
   ],
   "source": [
    "print(get_repo_by_name2('李四'))"
   ]
  },
  {
   "cell_type": "code",
   "execution_count": 19,
   "metadata": {},
   "outputs": [
    {
     "ename": "ModuleNotFoundError",
     "evalue": "No module named 'bs4'",
     "output_type": "error",
     "traceback": [
      "\u001b[1;31m---------------------------------------------------------------------------\u001b[0m",
      "\u001b[1;31mModuleNotFoundError\u001b[0m                       Traceback (most recent call last)",
      "Cell \u001b[1;32mIn[19], line 2\u001b[0m\n\u001b[0;32m      1\u001b[0m \u001b[38;5;28;01mimport\u001b[39;00m \u001b[38;5;21;01mrequests\u001b[39;00m  \n\u001b[1;32m----> 2\u001b[0m \u001b[38;5;28;01mfrom\u001b[39;00m \u001b[38;5;21;01mbs4\u001b[39;00m \u001b[38;5;28;01mimport\u001b[39;00m BeautifulSoup  \n\u001b[0;32m      4\u001b[0m \u001b[38;5;28;01mdef\u001b[39;00m \u001b[38;5;21mget_commit_info\u001b[39m(repo_url):  \n\u001b[0;32m      5\u001b[0m     response \u001b[38;5;241m=\u001b[39m requests\u001b[38;5;241m.\u001b[39mget(repo_url,verify\u001b[38;5;241m=\u001b[39m\u001b[38;5;28;01mFalse\u001b[39;00m)  \n",
      "\u001b[1;31mModuleNotFoundError\u001b[0m: No module named 'bs4'"
     ]
    }
   ],
   "source": [
    "import requests  \n",
    "from bs4 import BeautifulSoup  \n",
    "  \n",
    "def get_commit_info(repo_url):  \n",
    "    response = requests.get(repo_url,verify=False)  \n",
    "    soup = BeautifulSoup(response.text, 'html.parser')  \n",
    "      \n",
    "    commit_count = soup.find('a', {'class': 'social-count'}).text  \n",
    "    commit_count = int(commit_count.replace(',', ''))  \n",
    "      \n",
    "    commit_date = soup.find('relative-time').text  \n",
    "    commit_date = commit_date.split(' ')[0]  \n",
    "      \n",
    "    return commit_count, commit_date"
   ]
  }
 ],
 "metadata": {
  "kernelspec": {
   "display_name": "Python 3",
   "language": "python",
   "name": "python3"
  },
  "language_info": {
   "codemirror_mode": {
    "name": "ipython",
    "version": 3
   },
   "file_extension": ".py",
   "mimetype": "text/x-python",
   "name": "python",
   "nbconvert_exporter": "python",
   "pygments_lexer": "ipython3",
   "version": "3.8.10"
  }
 },
 "nbformat": 4,
 "nbformat_minor": 2
}
