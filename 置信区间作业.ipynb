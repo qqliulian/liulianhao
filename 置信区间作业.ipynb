{
 "cells": [
  {
   "cell_type": "code",
   "execution_count": 2,
   "metadata": {},
   "outputs": [],
   "source": [
    "import pandas as pd\n",
    "from scipy import stats\n",
    "# 打开数据文件\n",
    "file_path = R\"data/movie_data_cleaned.csv\"\n",
    "df_movies = pd.read_csv(file_path)"
   ]
  },
  {
   "cell_type": "code",
   "execution_count": 3,
   "metadata": {},
   "outputs": [
    {
     "name": "stdout",
     "output_type": "stream",
     "text": [
      "均值： 7.20\n",
      "均值在置信水平0.95下的置信区间为： (7.171337577138237, 7.2214184794700635)\n"
     ]
    }
   ],
   "source": [
    "# 计算均值和标准误差\n",
    "mean = df_movies['average'].mean()\n",
    "std_error = stats.sem(df_movies['average'])\n",
    "# 设定置信水平\n",
    "confidence_level = 0.95\n",
    "# 设定自由度\n",
    "df = len(df_movies['average']) - 1\n",
    "# 计算置信区间\n",
    "confidence_interval = stats.t.interval(confidence_level, df, loc=mean, scale=std_error)\n",
    "# 输出结果\n",
    "print(F\"均值：{mean: .2f}\")\n",
    "print(F\"均值在置信水平{confidence_level}下的置信区间为：\", confidence_interval)"
   ]
  },
  {
   "cell_type": "code",
   "execution_count": 4,
   "metadata": {},
   "outputs": [
    {
     "name": "stdout",
     "output_type": "stream",
     "text": [
      "[4, 3, 8]\n"
     ]
    }
   ],
   "source": [
    "import random  \n",
    "  \n",
    "# 定义一个列表  \n",
    "data = [1, 2, 3, 4, 5, 6, 7, 8, 9, 10]  \n",
    "  \n",
    "# 使用sample函数随机抽取3个元素  \n",
    "sample_data = random.sample(data, 3)  \n",
    "  \n",
    "print(sample_data)"
   ]
  },
  {
   "cell_type": "code",
   "execution_count": 5,
   "metadata": {},
   "outputs": [
    {
     "name": "stdout",
     "output_type": "stream",
     "text": [
      "样本均值: 5.0\n",
      "置信区间: (0.765916077040198, 9.234083922959801)\n"
     ]
    }
   ],
   "source": [
    "import math  \n",
    "  \n",
    "# 计算样本均值  \n",
    "sample_mean = sum(sample_data) / len(sample_data)  \n",
    "  \n",
    "# 计算标准误差  \n",
    "sample_se = math.sqrt(sum((xi - sample_mean) ** 2 for xi in sample_data) / len(sample_data))  \n",
    "  \n",
    "# 计算置信区间  \n",
    "confidence_level = 0.95  # 95%的置信水平  \n",
    "z_score = 1.96  # z-score对应于95%的置信水平  \n",
    "confidence_interval = (sample_mean - z_score * sample_se, sample_mean + z_score * sample_se)  \n",
    "  \n",
    "print(\"样本均值:\", sample_mean)  \n",
    "print(\"置信区间:\", confidence_interval)"
   ]
  },
  {
   "cell_type": "code",
   "execution_count": 6,
   "metadata": {},
   "outputs": [
    {
     "name": "stdout",
     "output_type": "stream",
     "text": [
      "均值： 7.06\n",
      "均值在置信水平0.95下的置信区间为： (6.842128506151703, 7.2798714938483)\n"
     ]
    }
   ],
   "source": [
    "# 抽取100行数据  \n",
    "sample_df = df_movies.sample(100)  \n",
    "  \n",
    "# 计算均值和标准误差  \n",
    "mean = sample_df['average'].mean()  \n",
    "std_error = stats.sem(sample_df['average'])  \n",
    "  \n",
    "# 设定置信水平  \n",
    "confidence_level = 0.95  \n",
    "  \n",
    "# 设定自由度  \n",
    "df = len(sample_df['average']) - 1  \n",
    "  \n",
    "# 计算置信区间  \n",
    "confidence_interval = stats.t.interval(confidence_level, df, loc=mean, scale=std_error)  \n",
    "  \n",
    "# 输出结果  \n",
    "print(f\"均值：{mean: .2f}\")  \n",
    "print(f\"均值在置信水平{confidence_level}下的置信区间为：\", confidence_interval)"
   ]
  }
 ],
 "metadata": {
  "kernelspec": {
   "display_name": "Python 3",
   "language": "python",
   "name": "python3"
  },
  "language_info": {
   "codemirror_mode": {
    "name": "ipython",
    "version": 3
   },
   "file_extension": ".py",
   "mimetype": "text/x-python",
   "name": "python",
   "nbconvert_exporter": "python",
   "pygments_lexer": "ipython3",
   "version": "3.8.10"
  }
 },
 "nbformat": 4,
 "nbformat_minor": 2
}
